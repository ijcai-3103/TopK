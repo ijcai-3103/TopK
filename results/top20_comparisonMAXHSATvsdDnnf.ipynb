{
 "cells": [
  {
   "cell_type": "code",
   "execution_count": 1,
   "id": "dc93e031",
   "metadata": {},
   "outputs": [],
   "source": [
    "import os\n",
    "import json"
   ]
  },
  {
   "cell_type": "code",
   "execution_count": 2,
   "id": "6884013d-de47-4f0c-ba0c-988478986159",
   "metadata": {},
   "outputs": [],
   "source": [
    "def get_number_of_models(file):\n",
    "    with open(os.path.join(os.path.join(\"out\",\"d4_compilation_stats\"),file), 'r') as fp:\n",
    "        data = json.load(fp)\n",
    "    if data['Number of models']==\"NaN\":\n",
    "        return -1\n",
    "    return int(data['Number of models'])"
   ]
  },
  {
   "cell_type": "markdown",
   "id": "1cc6332b-a99c-4003-933f-496cd542cb5e",
   "metadata": {},
   "source": [
    "# Data analysis"
   ]
  },
  {
   "cell_type": "code",
   "execution_count": 3,
   "id": "daa37b41-7281-4735-85b4-79bee0ed12d7",
   "metadata": {},
   "outputs": [],
   "source": [
    "import pandas as pd\n",
    "import matplotlib.pyplot as plt\n",
    "%matplotlib inline"
   ]
  },
  {
   "cell_type": "markdown",
   "id": "c644127f-8c0c-4302-bca9-efbb12532f20",
   "metadata": {},
   "source": [
    "## Loading the data"
   ]
  },
  {
   "cell_type": "code",
   "execution_count": 4,
   "id": "1b5593d8-7702-417c-ac71-cf42076341e3",
   "metadata": {},
   "outputs": [],
   "source": [
    "def is_float(element):\n",
    "    try:\n",
    "        float(element)\n",
    "        return True\n",
    "    except ValueError:\n",
    "        return False"
   ]
  },
  {
   "cell_type": "code",
   "execution_count": 5,
   "id": "e145152c-d557-4094-b237-de7bbd4b298d",
   "metadata": {},
   "outputs": [],
   "source": [
    "data = {}\n",
    "timeout = 1200"
   ]
  },
  {
   "cell_type": "code",
   "execution_count": 6,
   "id": "948ecc40-fa0b-45a6-9c2b-29b6f114e830",
   "metadata": {},
   "outputs": [],
   "source": [
    "def load_maxhd_data(directory, col_name, nb):\n",
    "    data = {}\n",
    "    for file in list(os.listdir(directory)):\n",
    "        with open(os.path.join(directory,file), 'r') as fp:\n",
    "            data_max = json.load(fp)\n",
    "            data[file]={}\n",
    "        for key,tmp in data_max.items():\n",
    "            if len(tmp)>=nb and is_float(tmp[nb-1]):\n",
    "                data[file][col_name % key]=tmp[nb-1]\n",
    "            else: \n",
    "                if tmp[-1] == \"UNSAT\" and tmp[-2]<timeout:\n",
    "                    data[file][col_name % key]=tmp[-2]\n",
    "    return data\n",
    "\n",
    "maxhs_key = \"MaxHS Top 20 Enum %s\"\n",
    "tmp = load_maxhd_data(\"out/top20_config_maxhs\", maxhs_key, 20)\n",
    "for key in tmp:\n",
    "    if key not in data:\n",
    "        data[key]={}\n",
    "    data[key].update(tmp[key])"
   ]
  },
  {
   "cell_type": "code",
   "execution_count": 7,
   "id": "7ef23039-9edb-4e10-a432-bbbc361f020a",
   "metadata": {},
   "outputs": [],
   "source": [
    "def load_compilation_time(directory,col_name):\n",
    "    data = {}\n",
    "    for file in list(os.listdir(directory)):\n",
    "        with open(os.path.join(directory,file), 'r') as fp:\n",
    "            data_d4 = json.load(fp)\n",
    "        data[file] = {}\n",
    "        if data_d4['Compilation time'] != \"NaN\":\n",
    "            data[file][col_name]=data_d4['Compilation time']\n",
    "        else:\n",
    "            data[file][col_name]=pd.NA\n",
    "    return data\n",
    "\n",
    "compil_key = \"d4 compilation (seconds)\"\n",
    "tmp =load_compilation_time(\"out/d4_compilation_stats\",compil_key)\n",
    "for key in tmp:\n",
    "    if key not in data:\n",
    "        data[key]={}\n",
    "    data[key].update(tmp[key])\n"
   ]
  },
  {
   "cell_type": "code",
   "execution_count": 8,
   "id": "1a41b18a-f5ed-4bbc-b9f3-e4dfac9923b5",
   "metadata": {},
   "outputs": [],
   "source": [
    "def load_jddnnf_data(directory, col_name):\n",
    "    data = {}\n",
    "    for file in list(os.listdir(directory)):\n",
    "        with open(os.path.join(directory,file), 'r') as fp:\n",
    "            data_j = json.load(fp)\n",
    "        data[file] = {}\n",
    "        for key,tmp in data_j.items():\n",
    "            if tmp['total'] != \"TIMEOUT\":\n",
    "                data[file][col_name % key]=tmp['total']\n",
    "            else:\n",
    "                data[file][col_name % key]=pd.NA\n",
    "    return data\n",
    "\n",
    "jddnnf_key = \"jddnnf Top 20 Enum %s\"\n",
    "tmp = load_jddnnf_data(\"out/top20_config_jddnnf\",jddnnf_key)\n",
    "for key in tmp:\n",
    "    if key not in data:\n",
    "        data[key]={}\n",
    "    data[key].update(tmp[key])"
   ]
  },
  {
   "cell_type": "code",
   "execution_count": 9,
   "id": "a2164af8-5456-447c-966f-13953952b2a8",
   "metadata": {},
   "outputs": [],
   "source": [
    "data_df = pd.DataFrame.from_dict(data,orient='index')\n"
   ]
  },
  {
   "cell_type": "markdown",
   "id": "3701e37a-c610-40b9-a8f3-f63a3ba84edd",
   "metadata": {},
   "source": [
    "# Computing the average for MaxHS"
   ]
  },
  {
   "cell_type": "code",
   "execution_count": 10,
   "id": "e5d9ca20-2915-4fde-8413-7caf34391283",
   "metadata": {},
   "outputs": [],
   "source": [
    "maxhs_ave_key = \"MaxHS Top 20 average (seconds)\"\n",
    "data_df[maxhs_ave_key] = (data_df[maxhs_key % \"0\"] + data_df[maxhs_key % \"1\"] + data_df[maxhs_key % \"3\"] + \n",
    "                          data_df[maxhs_key % \"2\"] + data_df[maxhs_key % \"4\"])/5"
   ]
  },
  {
   "cell_type": "code",
   "execution_count": 11,
   "id": "91245ecc-36bb-4715-9d2a-b62a06a44880",
   "metadata": {},
   "outputs": [],
   "source": [
    "max_df = data_df[[maxhs_key % str(key) for key in range(5)]]\n",
    "\n",
    "data_df.loc[max_df.isnull().any(axis=1),maxhs_ave_key] = timeout\n",
    "data_df.loc[data_df[maxhs_ave_key]>timeout,maxhs_ave_key] = timeout"
   ]
  },
  {
   "cell_type": "markdown",
   "id": "f4e7ccf1-bc15-44f4-8f0e-67df60c80161",
   "metadata": {},
   "source": [
    "# Taking care of d4 failure"
   ]
  },
  {
   "cell_type": "code",
   "execution_count": 12,
   "id": "9087cfa0-e28c-4755-b2dd-0bd012733d73",
   "metadata": {},
   "outputs": [],
   "source": [
    "data_df.loc[data_df[[compil_key]].isnull().any(axis=1),compil_key] = timeout\n",
    "data_df.loc[data_df[compil_key]>timeout,compil_key] = timeout"
   ]
  },
  {
   "cell_type": "markdown",
   "id": "7dd85c31-c683-48d8-b5d6-6b347a361309",
   "metadata": {},
   "source": [
    "# Computing the average for jddnnf"
   ]
  },
  {
   "cell_type": "code",
   "execution_count": 13,
   "id": "82fdaf3f-e253-49e7-b2ab-d1b183d132e9",
   "metadata": {},
   "outputs": [],
   "source": [
    "jddnnf_ave_key = \"Top k average (seconds)\"\n",
    "data_df[jddnnf_ave_key] = (data_df[jddnnf_key % \"0\"] + data_df[jddnnf_key % \"1\"] + data_df[jddnnf_key % \"2\"] + \n",
    "                           data_df[jddnnf_key % \"3\"] + data_df[jddnnf_key % \"4\"])/5"
   ]
  },
  {
   "cell_type": "code",
   "execution_count": 14,
   "id": "c55a6043-dfdb-49fa-bfb8-fbe834edd750",
   "metadata": {},
   "outputs": [],
   "source": [
    "max_df = data_df[[jddnnf_key % str(key) for key in range(5)]]\n",
    "\n",
    "data_df.loc[max_df.isnull().any(axis=1),jddnnf_ave_key] = timeout\n",
    "data_df.loc[data_df[jddnnf_ave_key]>timeout,jddnnf_ave_key] = timeout\n"
   ]
  },
  {
   "cell_type": "code",
   "execution_count": 15,
   "id": "5761a3f4-8ee8-4b70-83ed-61df12d28d80",
   "metadata": {},
   "outputs": [],
   "source": [
    "total_key = \"Total dDNNF (seconds)\"\n",
    "data_df[total_key]=data_df[jddnnf_ave_key]+data_df[\"d4 compilation (seconds)\"]\n",
    "data_df.loc[data_df[total_key]>timeout,total_key] = timeout"
   ]
  },
  {
   "cell_type": "code",
   "execution_count": 16,
   "id": "290c6f40-77e9-470d-9f24-a2b4656cfd2c",
   "metadata": {},
   "outputs": [
    {
     "name": "stdout",
     "output_type": "stream",
     "text": [
      "# of instances solved by MaxHS but not by d4: 156\n",
      "# of instances solved by d4 but not by maxhs: 80\n"
     ]
    }
   ],
   "source": [
    "tmp_df = data_df[data_df[\"d4 compilation (seconds)\"]==timeout]\n",
    "tmp_df = tmp_df[tmp_df[maxhs_ave_key]!=timeout]\n",
    "print(\"# of instances solved by MaxHS but not by d4: %d\" % tmp_df.shape[0])\n",
    "\n",
    "tmp_df = data_df[data_df[maxhs_ave_key]==timeout]\n",
    "tmp_df = tmp_df[tmp_df[\"d4 compilation (seconds)\"]!=timeout]\n",
    "print(\"# of instances solved by d4 but not by maxhs: %d\" % tmp_df.shape[0])"
   ]
  },
  {
   "cell_type": "markdown",
   "id": "28b67982-7776-4224-96bc-3cb18c632621",
   "metadata": {},
   "source": [
    "# MaxHS vs full jddnnf"
   ]
  },
  {
   "cell_type": "code",
   "execution_count": 17,
   "id": "f972a06c-0ec2-469a-9dc7-9e8b63883b72",
   "metadata": {},
   "outputs": [
    {
     "data": {
      "image/png": "[encoded data removed]",
      "text/plain": [
       "<Figure size 432x288 with 1 Axes>"
      ]
     },
     "metadata": {
      "needs_background": "light"
     },
     "output_type": "display_data"
    }
   ],
   "source": [
    "plot_df = data_df[[total_key,maxhs_ave_key]].copy()\n",
    "plot_df = plot_df.rename(columns={total_key:\"Total time TopSol(20) with the dDNNF (seconds)\", maxhs_ave_key:\"TopSol(20) with MaxHS (seconds)\"})\n",
    "plot_df.plot(\"Total time TopSol(20) with the dDNNF (seconds)\",\"TopSol(20) with MaxHS (seconds)\",kind=\"scatter\")\n",
    "plt.plot([0,timeout],[0,timeout],'-',color=\"orange\")\n",
    "plt.show()"
   ]
  },
  {
   "cell_type": "code",
   "execution_count": 18,
   "id": "6aed5ca0-521c-4a64-be34-58e8a8b5fcf0",
   "metadata": {},
   "outputs": [
    {
     "name": "stdout",
     "output_type": "stream",
     "text": [
      "# of instances solved by MaxHS but not by d4: 158\n",
      "# of instances solved by d4 but not by maxhs: 78\n",
      "# successes for the MaxHS approach: 1241\n",
      "Success rate for the maxHS approach: 87.15\n",
      "# successes for the compilation approach: 1161\n",
      "Success rate for the dNNF approach: 81.53\n",
      "Number of example where MaxHS is faster: 544\n",
      "Number of example where dDNNF is faster: 775\n"
     ]
    }
   ],
   "source": [
    "tmp_df = data_df[data_df[total_key]==timeout]\n",
    "tmp_df = tmp_df[tmp_df[maxhs_ave_key]!=timeout]\n",
    "print(\"# of instances solved by MaxHS but not by d4: %d\" % tmp_df.shape[0])\n",
    "tmp_df = data_df[data_df[maxhs_ave_key]==timeout]\n",
    "tmp_df = tmp_df[tmp_df[total_key]!=timeout]\n",
    "print(\"# of instances solved by d4 but not by maxhs: %d\" % tmp_df.shape[0])\n",
    "tmp_df = data_df[data_df[maxhs_ave_key]!=timeout]\n",
    "print(\"# successes for the MaxHS approach: %d\" % tmp_df.shape[0])\n",
    "print(\"Success rate for the maxHS approach: %0.2f\" % (100*(tmp_df.shape[0])/data_df.shape[0]))\n",
    "tmp_df = data_df[data_df[total_key]!=timeout]\n",
    "print(\"# successes for the compilation approach: %d\" % tmp_df.shape[0])\n",
    "print(\"Success rate for the dNNF approach: %0.2f\" % (100*(tmp_df.shape[0])/data_df.shape[0]))\n",
    "tmp_df = data_df[data_df[maxhs_ave_key]<data_df[total_key]]\n",
    "print(\"Number of example where MaxHS is faster: %d\" % tmp_df.shape[0])\n",
    "tmp_df = data_df[data_df[maxhs_ave_key]>data_df[total_key]]\n",
    "print(\"Number of example where dDNNF is faster: %d\" % tmp_df.shape[0])"
   ]
  }
 ],
 "metadata": {
  "kernelspec": {
   "display_name": "Python 3 (ipykernel)",
   "language": "python",
   "name": "python3"
  },
  "language_info": {
   "codemirror_mode": {
    "name": "ipython",
    "version": 3
   },
   "file_extension": ".py",
   "mimetype": "text/x-python",
   "name": "python",
   "nbconvert_exporter": "python",
   "pygments_lexer": "ipython3",
   "version": "3.9.12"
  }
 },
 "nbformat": 4,
 "nbformat_minor": 5
}
